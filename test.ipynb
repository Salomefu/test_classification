{
 "cells": [
  {
   "cell_type": "code",
   "execution_count": 1,
   "metadata": {},
   "outputs": [
    {
     "name": "stderr",
     "output_type": "stream",
     "text": [
      "/Users/fuqing/anaconda3/lib/python3.6/site-packages/h5py/__init__.py:36: FutureWarning: Conversion of the second argument of issubdtype from `float` to `np.floating` is deprecated. In future, it will be treated as `np.float64 == np.dtype(float).type`.\n",
      "  from ._conv import register_converters as _register_converters\n",
      "Using TensorFlow backend.\n"
     ]
    }
   ],
   "source": [
    "'''This script loads pre-trained word embeddings (GloVe embeddings)\n",
    "into a frozen Keras Embedding layer, and uses it to\n",
    "train a text classification model on the 20 Newsgroup dataset\n",
    "(classification of newsgroup messages into 20 different categories).\n",
    "GloVe embedding data can be found at:\n",
    "http://nlp.stanford.edu/data/glove.6B.zip\n",
    "(source page: http://nlp.stanford.edu/projects/glove/)\n",
    "20 Newsgroup data can be found at:\n",
    "http://www.cs.cmu.edu/afs/cs.cmu.edu/project/theo-20/www/data/news20.html\n",
    "'''\n",
    "\n",
    "import os\n",
    "import sys\n",
    "import numpy as np\n",
    "from keras.preprocessing.text import Tokenizer\n",
    "from keras.preprocessing.sequence import pad_sequences\n",
    "from keras.utils import to_categorical\n",
    "from keras.layers import Dense, Input, GlobalMaxPooling1D\n",
    "from keras.layers import Conv1D, MaxPooling1D, Embedding\n",
    "from keras.models import Model\n",
    "from keras.initializers import Constant\n",
    "\n",
    "\n",
    "BASE_DIR = ''\n",
    "GLOVE_DIR = os.path.join(BASE_DIR)\n",
    "TEXT_DATA_DIR = os.path.join(BASE_DIR, 'train.csv')\n",
    "MAX_SEQUENCE_LENGTH = 1000\n",
    "MAX_NUM_WORDS = 20000\n",
    "EMBEDDING_DIM = 300\n",
    "VALIDATION_SPLIT = 0.2"
   ]
  },
  {
   "cell_type": "code",
   "execution_count": 30,
   "metadata": {},
   "outputs": [
    {
     "name": "stdout",
     "output_type": "stream",
     "text": [
      "Indexing word vectors.\n",
      "Found 364181 word vectors.\n"
     ]
    }
   ],
   "source": [
    "# first, build index mapping words in the embeddings set\n",
    "# to their embedding vector\n",
    "\n",
    "print('Indexing word vectors.')\n",
    "#key为word,value为对应的300维词向量\n",
    "#np.asarray()\n",
    "\n",
    "embeddings_index = {}\n",
    "with open(os.path.join(GLOVE_DIR, 'sgns.sogou.word.txt')) as f:\n",
    "    for line in f:\n",
    "        values = line.split()\n",
    "        word = values[0]\n",
    "        coefs = np.asarray(values[1:], dtype='float32')\n",
    "        embeddings_index[word] = coefs\n",
    "\n",
    "print('Found %s word vectors.' % len(embeddings_index))"
   ]
  },
  {
   "cell_type": "code",
   "execution_count": 31,
   "metadata": {},
   "outputs": [
    {
     "name": "stdout",
     "output_type": "stream",
     "text": [
      "Processing text dataset\n",
      "Found 120 texts.\n"
     ]
    }
   ],
   "source": [
    "# second, prepare text samples and their labels\n",
    "print('Processing text dataset')\n",
    "texts = []  # list of text samples\n",
    "labels = []  # list of label ids\n",
    "with open(TEXT_DATA_DIR) as f:\n",
    "    for line in f.readlines():\n",
    "        l = line.split(',')\n",
    "        if l[0] == 'text':\n",
    "            continue\n",
    "        texts.append(l[0])\n",
    "        labels.append(int(l[-1].strip('\\n')))\n",
    "print('Found %s texts.' % len(texts))"
   ]
  },
  {
   "cell_type": "code",
   "execution_count": 33,
   "metadata": {},
   "outputs": [
    {
     "name": "stdout",
     "output_type": "stream",
     "text": [
      "[5, 2, 2, 2, 3, 3, 5, 4, 2, 5, 1, 6, 2, 4, 5, 2, 4, 3, 2, 3, 6, 2, 1, 6, 2, 2, 1, 1, 5, 2, 4, 1, 5, 2, 6, 3, 4, 1, 2, 5, 6, 6, 4, 2, 6, 5, 6, 1, 2, 6, 5, 4, 2, 6, 1, 3, 6, 3, 1, 3, 5, 4, 2, 4, 6, 1, 1, 3, 6, 3, 6, 4, 4, 6, 6, 3, 2, 1, 1, 3, 5, 4, 3, 5, 5, 3, 6, 5, 5, 6, 6, 5, 5, 6, 1, 4, 1, 3, 4, 4, 4, 4, 4, 3, 3, 1, 5, 3, 1, 5, 5, 3, 1, 2, 2, 1, 4, 1, 4, 3]\n"
     ]
    }
   ],
   "source": [
    "print(labels)"
   ]
  },
  {
   "cell_type": "code",
   "execution_count": 34,
   "metadata": {},
   "outputs": [
    {
     "name": "stdout",
     "output_type": "stream",
     "text": [
      "Found 2615 unique tokens.\n",
      "Shape of data tensor: (120, 1000)\n",
      "Shape of label tensor: (120, 7)\n",
      "(96, 1000)\n"
     ]
    }
   ],
   "source": [
    "# finally, vectorize the text samples into a 2D integer tensor\n",
    "tokenizer = Tokenizer(num_words=MAX_NUM_WORDS)\n",
    "tokenizer.fit_on_texts(texts)\n",
    "sequences = tokenizer.texts_to_sequences(texts)\n",
    "\n",
    "word_index = tokenizer.word_index\n",
    "print('Found %s unique tokens.' % len(word_index))\n",
    "\n",
    "data = pad_sequences(sequences, maxlen=MAX_SEQUENCE_LENGTH)\n",
    "labels = to_categorical(np.asarray(labels))\n",
    "\n",
    "print('Shape of data tensor:', data.shape)\n",
    "print('Shape of label tensor:', labels.shape)\n",
    "\n",
    "# split the data into a training set and a validation set\n",
    "indices = np.arange(data.shape[0])\n",
    "np.random.shuffle(indices)\n",
    "data = data[indices]\n",
    "labels = labels[indices]\n",
    "num_validation_samples = int(VALIDATION_SPLIT * data.shape[0])\n",
    "\n",
    "x_train = data[:-num_validation_samples]\n",
    "y_train = labels[:-num_validation_samples]\n",
    "x_val = data[-num_validation_samples:]\n",
    "y_val = labels[-num_validation_samples:]\n",
    "print(x_train.shape)"
   ]
  },
  {
   "cell_type": "code",
   "execution_count": 36,
   "metadata": {},
   "outputs": [
    {
     "name": "stdout",
     "output_type": "stream",
     "text": [
      "Preparing embedding matrix.\n"
     ]
    }
   ],
   "source": [
    "print('Preparing embedding matrix.')\n",
    "\n",
    "# prepare embedding matrix\n",
    "num_words = min(MAX_NUM_WORDS, len(word_index) + 1)\n",
    "embedding_matrix = np.zeros((num_words, EMBEDDING_DIM))\n",
    "for word, i in word_index.items():\n",
    "    if i >= MAX_NUM_WORDS:\n",
    "        continue\n",
    "    embedding_vector = embeddings_index.get(word)\n",
    "    if embedding_vector is not None:\n",
    "        # words not found in embedding index will be all-zeros.\n",
    "        embedding_matrix[i] = embedding_vector\n",
    "\n",
    "# load pre-trained word embeddings into an Embedding layer\n",
    "# note that we set trainable = False so as to keep the embeddings fixed\n",
    "embedding_layer = Embedding(num_words,\n",
    "                            EMBEDDING_DIM,\n",
    "                            embeddings_initializer=Constant(embedding_matrix),\n",
    "                            input_length=MAX_SEQUENCE_LENGTH,\n",
    "                            trainable=False)"
   ]
  },
  {
   "cell_type": "code",
   "execution_count": 41,
   "metadata": {},
   "outputs": [
    {
     "name": "stdout",
     "output_type": "stream",
     "text": [
      "Training model.\n",
      "(?, 1000)\n",
      "(?, 1000, 300)\n",
      "(?, 996, 128)\n",
      "(?, 199, 128)\n",
      "(?, 195, 128)\n",
      "(?, 39, 128)\n",
      "(?, 35, 128)\n",
      "(?, 128)\n",
      "(?, 128)\n",
      "(?, 7)\n",
      "Train on 96 samples, validate on 24 samples\n",
      "Epoch 1/100\n",
      "96/96 [==============================] - 3s 30ms/step - loss: 1.9245 - acc: 0.1458 - val_loss: 2.0500 - val_acc: 0.0833\n",
      "Epoch 2/100\n",
      "96/96 [==============================] - 2s 23ms/step - loss: 1.7907 - acc: 0.2083 - val_loss: 2.1197 - val_acc: 0.0833\n",
      "Epoch 3/100\n",
      "96/96 [==============================] - 2s 22ms/step - loss: 1.6666 - acc: 0.2708 - val_loss: 2.2331 - val_acc: 0.0833\n",
      "Epoch 4/100\n",
      "96/96 [==============================] - 2s 23ms/step - loss: 1.5917 - acc: 0.3125 - val_loss: 1.9751 - val_acc: 0.2083\n",
      "Epoch 5/100\n",
      "96/96 [==============================] - 2s 22ms/step - loss: 1.4719 - acc: 0.3854 - val_loss: 2.4872 - val_acc: 0.1250\n",
      "Epoch 6/100\n",
      "96/96 [==============================] - 2s 22ms/step - loss: 1.4065 - acc: 0.4271 - val_loss: 2.2507 - val_acc: 0.1667\n",
      "Epoch 7/100\n",
      "96/96 [==============================] - 2s 23ms/step - loss: 1.2956 - acc: 0.4688 - val_loss: 2.2815 - val_acc: 0.2083\n",
      "Epoch 8/100\n",
      "96/96 [==============================] - 2s 22ms/step - loss: 1.2192 - acc: 0.5000 - val_loss: 2.5699 - val_acc: 0.1667\n",
      "Epoch 9/100\n",
      "96/96 [==============================] - 2s 22ms/step - loss: 1.1662 - acc: 0.5312 - val_loss: 2.2425 - val_acc: 0.2083\n",
      "Epoch 10/100\n",
      "96/96 [==============================] - 2s 23ms/step - loss: 1.1436 - acc: 0.5208 - val_loss: 3.9892 - val_acc: 0.1667\n",
      "Epoch 11/100\n",
      "96/96 [==============================] - 2s 22ms/step - loss: 1.1370 - acc: 0.4896 - val_loss: 2.5380 - val_acc: 0.2083\n",
      "Epoch 12/100\n",
      "96/96 [==============================] - 2s 24ms/step - loss: 1.0863 - acc: 0.5104 - val_loss: 3.0500 - val_acc: 0.1667\n",
      "Epoch 13/100\n",
      "96/96 [==============================] - 2s 22ms/step - loss: 1.0843 - acc: 0.5417 - val_loss: 2.8929 - val_acc: 0.1667\n",
      "Epoch 14/100\n",
      "96/96 [==============================] - 2s 23ms/step - loss: 1.1047 - acc: 0.4792 - val_loss: 3.4608 - val_acc: 0.1250\n",
      "Epoch 15/100\n",
      "96/96 [==============================] - 2s 23ms/step - loss: 1.0763 - acc: 0.5417 - val_loss: 3.2545 - val_acc: 0.1667\n",
      "Epoch 16/100\n",
      "96/96 [==============================] - 2s 22ms/step - loss: 1.0655 - acc: 0.5417 - val_loss: 3.3503 - val_acc: 0.1667\n",
      "Epoch 17/100\n",
      "96/96 [==============================] - 2s 23ms/step - loss: 1.0661 - acc: 0.5104 - val_loss: 3.4012 - val_acc: 0.1667\n",
      "Epoch 18/100\n",
      "96/96 [==============================] - 2s 23ms/step - loss: 1.0708 - acc: 0.5417 - val_loss: 3.5566 - val_acc: 0.1667\n",
      "Epoch 19/100\n",
      "96/96 [==============================] - 2s 23ms/step - loss: 1.0699 - acc: 0.5312 - val_loss: 3.4168 - val_acc: 0.1667\n",
      "Epoch 20/100\n",
      "96/96 [==============================] - 2s 22ms/step - loss: 1.0704 - acc: 0.5208 - val_loss: 3.7213 - val_acc: 0.1667\n",
      "Epoch 21/100\n",
      "96/96 [==============================] - 2s 22ms/step - loss: 1.0641 - acc: 0.5417 - val_loss: 3.5966 - val_acc: 0.1667\n",
      "Epoch 22/100\n",
      "96/96 [==============================] - 2s 22ms/step - loss: 1.0626 - acc: 0.5208 - val_loss: 3.9382 - val_acc: 0.1667\n",
      "Epoch 23/100\n",
      "96/96 [==============================] - 2s 23ms/step - loss: 1.0668 - acc: 0.5208 - val_loss: 4.4110 - val_acc: 0.1667\n",
      "Epoch 24/100\n",
      "96/96 [==============================] - 2s 23ms/step - loss: 1.1327 - acc: 0.5312 - val_loss: 4.5088 - val_acc: 0.1250\n",
      "Epoch 25/100\n",
      "96/96 [==============================] - 2s 24ms/step - loss: 1.0597 - acc: 0.5417 - val_loss: 4.4882 - val_acc: 0.1250\n",
      "Epoch 26/100\n",
      "96/96 [==============================] - 2s 22ms/step - loss: 1.0603 - acc: 0.5417 - val_loss: 4.4313 - val_acc: 0.1250\n",
      "Epoch 27/100\n",
      "96/96 [==============================] - 2s 23ms/step - loss: 1.0588 - acc: 0.5417 - val_loss: 4.4689 - val_acc: 0.1667\n",
      "Epoch 28/100\n",
      "96/96 [==============================] - 2s 23ms/step - loss: 1.0650 - acc: 0.5312 - val_loss: 4.2694 - val_acc: 0.1667\n",
      "Epoch 29/100\n",
      "96/96 [==============================] - 2s 25ms/step - loss: 1.0607 - acc: 0.5417 - val_loss: 4.5347 - val_acc: 0.1250\n",
      "Epoch 30/100\n",
      "96/96 [==============================] - 2s 22ms/step - loss: 1.0629 - acc: 0.5417 - val_loss: 4.2125 - val_acc: 0.1667\n",
      "Epoch 31/100\n",
      "96/96 [==============================] - 2s 22ms/step - loss: 1.0612 - acc: 0.5312 - val_loss: 4.1988 - val_acc: 0.1667\n",
      "Epoch 32/100\n",
      "96/96 [==============================] - 2s 23ms/step - loss: 1.0573 - acc: 0.5208 - val_loss: 4.0221 - val_acc: 0.1667\n",
      "Epoch 33/100\n",
      "96/96 [==============================] - 2s 23ms/step - loss: 1.0609 - acc: 0.5417 - val_loss: 4.5127 - val_acc: 0.1667\n",
      "Epoch 34/100\n",
      "96/96 [==============================] - 2s 23ms/step - loss: 1.0615 - acc: 0.5417 - val_loss: 4.4144 - val_acc: 0.1667\n",
      "Epoch 35/100\n",
      "96/96 [==============================] - 2s 24ms/step - loss: 1.0600 - acc: 0.5417 - val_loss: 4.3529 - val_acc: 0.1667\n",
      "Epoch 36/100\n",
      "96/96 [==============================] - 2s 23ms/step - loss: 1.0593 - acc: 0.5417 - val_loss: 4.2224 - val_acc: 0.1667\n",
      "Epoch 37/100\n",
      "96/96 [==============================] - 2s 26ms/step - loss: 1.0585 - acc: 0.5312 - val_loss: 4.7467 - val_acc: 0.1667\n",
      "Epoch 38/100\n",
      "96/96 [==============================] - 2s 25ms/step - loss: 1.0563 - acc: 0.5417 - val_loss: 4.4285 - val_acc: 0.1667\n",
      "Epoch 39/100\n",
      "96/96 [==============================] - 2s 26ms/step - loss: 1.0593 - acc: 0.5417 - val_loss: 4.1453 - val_acc: 0.1667\n",
      "Epoch 40/100\n",
      "96/96 [==============================] - 2s 24ms/step - loss: 1.0615 - acc: 0.5417 - val_loss: 4.5529 - val_acc: 0.1667\n",
      "Epoch 41/100\n",
      "96/96 [==============================] - 2s 22ms/step - loss: 1.0551 - acc: 0.5417 - val_loss: 4.5726 - val_acc: 0.1667\n",
      "Epoch 42/100\n",
      "96/96 [==============================] - 2s 22ms/step - loss: 1.0561 - acc: 0.5417 - val_loss: 4.9871 - val_acc: 0.1667\n",
      "Epoch 43/100\n",
      "96/96 [==============================] - 2s 24ms/step - loss: 1.0573 - acc: 0.5208 - val_loss: 4.7401 - val_acc: 0.1667\n",
      "Epoch 44/100\n",
      "96/96 [==============================] - 2s 23ms/step - loss: 1.0574 - acc: 0.5417 - val_loss: 4.7375 - val_acc: 0.1667\n",
      "Epoch 45/100\n",
      "96/96 [==============================] - 2s 24ms/step - loss: 1.0564 - acc: 0.5417 - val_loss: 5.5634 - val_acc: 0.1667\n",
      "Epoch 46/100\n",
      "56/96 [================>.............] - ETA: 0s - loss: 1.1266 - acc: 0.5357"
     ]
    },
    {
     "ename": "KeyboardInterrupt",
     "evalue": "",
     "output_type": "error",
     "traceback": [
      "\u001b[0;31m---------------------------------------------------------------------------\u001b[0m",
      "\u001b[0;31mKeyboardInterrupt\u001b[0m                         Traceback (most recent call last)",
      "\u001b[0;32m<ipython-input-41-8518ae7208ce>\u001b[0m in \u001b[0;36m<module>\u001b[0;34m()\u001b[0m\n\u001b[1;32m     33\u001b[0m           \u001b[0mbatch_size\u001b[0m\u001b[0;34m=\u001b[0m\u001b[0;36m8\u001b[0m\u001b[0;34m,\u001b[0m\u001b[0;34m\u001b[0m\u001b[0m\n\u001b[1;32m     34\u001b[0m           \u001b[0mepochs\u001b[0m\u001b[0;34m=\u001b[0m\u001b[0;36m100\u001b[0m\u001b[0;34m,\u001b[0m\u001b[0;34m\u001b[0m\u001b[0m\n\u001b[0;32m---> 35\u001b[0;31m           validation_data=(x_val, y_val))\n\u001b[0m",
      "\u001b[0;32m~/anaconda3/lib/python3.6/site-packages/keras/engine/training.py\u001b[0m in \u001b[0;36mfit\u001b[0;34m(self, x, y, batch_size, epochs, verbose, callbacks, validation_split, validation_data, shuffle, class_weight, sample_weight, initial_epoch, steps_per_epoch, validation_steps, **kwargs)\u001b[0m\n\u001b[1;32m   1035\u001b[0m                                         \u001b[0minitial_epoch\u001b[0m\u001b[0;34m=\u001b[0m\u001b[0minitial_epoch\u001b[0m\u001b[0;34m,\u001b[0m\u001b[0;34m\u001b[0m\u001b[0m\n\u001b[1;32m   1036\u001b[0m                                         \u001b[0msteps_per_epoch\u001b[0m\u001b[0;34m=\u001b[0m\u001b[0msteps_per_epoch\u001b[0m\u001b[0;34m,\u001b[0m\u001b[0;34m\u001b[0m\u001b[0m\n\u001b[0;32m-> 1037\u001b[0;31m                                         validation_steps=validation_steps)\n\u001b[0m\u001b[1;32m   1038\u001b[0m \u001b[0;34m\u001b[0m\u001b[0m\n\u001b[1;32m   1039\u001b[0m     def evaluate(self, x=None, y=None,\n",
      "\u001b[0;32m~/anaconda3/lib/python3.6/site-packages/keras/engine/training_arrays.py\u001b[0m in \u001b[0;36mfit_loop\u001b[0;34m(model, f, ins, out_labels, batch_size, epochs, verbose, callbacks, val_f, val_ins, shuffle, callback_metrics, initial_epoch, steps_per_epoch, validation_steps)\u001b[0m\n\u001b[1;32m    197\u001b[0m                     \u001b[0mins_batch\u001b[0m\u001b[0;34m[\u001b[0m\u001b[0mi\u001b[0m\u001b[0;34m]\u001b[0m \u001b[0;34m=\u001b[0m \u001b[0mins_batch\u001b[0m\u001b[0;34m[\u001b[0m\u001b[0mi\u001b[0m\u001b[0;34m]\u001b[0m\u001b[0;34m.\u001b[0m\u001b[0mtoarray\u001b[0m\u001b[0;34m(\u001b[0m\u001b[0;34m)\u001b[0m\u001b[0;34m\u001b[0m\u001b[0m\n\u001b[1;32m    198\u001b[0m \u001b[0;34m\u001b[0m\u001b[0m\n\u001b[0;32m--> 199\u001b[0;31m                 \u001b[0mouts\u001b[0m \u001b[0;34m=\u001b[0m \u001b[0mf\u001b[0m\u001b[0;34m(\u001b[0m\u001b[0mins_batch\u001b[0m\u001b[0;34m)\u001b[0m\u001b[0;34m\u001b[0m\u001b[0m\n\u001b[0m\u001b[1;32m    200\u001b[0m                 \u001b[0mouts\u001b[0m \u001b[0;34m=\u001b[0m \u001b[0mto_list\u001b[0m\u001b[0;34m(\u001b[0m\u001b[0mouts\u001b[0m\u001b[0;34m)\u001b[0m\u001b[0;34m\u001b[0m\u001b[0m\n\u001b[1;32m    201\u001b[0m                 \u001b[0;32mfor\u001b[0m \u001b[0ml\u001b[0m\u001b[0;34m,\u001b[0m \u001b[0mo\u001b[0m \u001b[0;32min\u001b[0m \u001b[0mzip\u001b[0m\u001b[0;34m(\u001b[0m\u001b[0mout_labels\u001b[0m\u001b[0;34m,\u001b[0m \u001b[0mouts\u001b[0m\u001b[0;34m)\u001b[0m\u001b[0;34m:\u001b[0m\u001b[0;34m\u001b[0m\u001b[0m\n",
      "\u001b[0;32m~/anaconda3/lib/python3.6/site-packages/keras/backend/tensorflow_backend.py\u001b[0m in \u001b[0;36m__call__\u001b[0;34m(self, inputs)\u001b[0m\n\u001b[1;32m   2664\u001b[0m                 \u001b[0;32mreturn\u001b[0m \u001b[0mself\u001b[0m\u001b[0;34m.\u001b[0m\u001b[0m_legacy_call\u001b[0m\u001b[0;34m(\u001b[0m\u001b[0minputs\u001b[0m\u001b[0;34m)\u001b[0m\u001b[0;34m\u001b[0m\u001b[0m\n\u001b[1;32m   2665\u001b[0m \u001b[0;34m\u001b[0m\u001b[0m\n\u001b[0;32m-> 2666\u001b[0;31m             \u001b[0;32mreturn\u001b[0m \u001b[0mself\u001b[0m\u001b[0;34m.\u001b[0m\u001b[0m_call\u001b[0m\u001b[0;34m(\u001b[0m\u001b[0minputs\u001b[0m\u001b[0;34m)\u001b[0m\u001b[0;34m\u001b[0m\u001b[0m\n\u001b[0m\u001b[1;32m   2667\u001b[0m         \u001b[0;32melse\u001b[0m\u001b[0;34m:\u001b[0m\u001b[0;34m\u001b[0m\u001b[0m\n\u001b[1;32m   2668\u001b[0m             \u001b[0;32mif\u001b[0m \u001b[0mpy_any\u001b[0m\u001b[0;34m(\u001b[0m\u001b[0mis_tensor\u001b[0m\u001b[0;34m(\u001b[0m\u001b[0mx\u001b[0m\u001b[0;34m)\u001b[0m \u001b[0;32mfor\u001b[0m \u001b[0mx\u001b[0m \u001b[0;32min\u001b[0m \u001b[0minputs\u001b[0m\u001b[0;34m)\u001b[0m\u001b[0;34m:\u001b[0m\u001b[0;34m\u001b[0m\u001b[0m\n",
      "\u001b[0;32m~/anaconda3/lib/python3.6/site-packages/keras/backend/tensorflow_backend.py\u001b[0m in \u001b[0;36m_call\u001b[0;34m(self, inputs)\u001b[0m\n\u001b[1;32m   2634\u001b[0m                                 \u001b[0msymbol_vals\u001b[0m\u001b[0;34m,\u001b[0m\u001b[0;34m\u001b[0m\u001b[0m\n\u001b[1;32m   2635\u001b[0m                                 session)\n\u001b[0;32m-> 2636\u001b[0;31m         \u001b[0mfetched\u001b[0m \u001b[0;34m=\u001b[0m \u001b[0mself\u001b[0m\u001b[0;34m.\u001b[0m\u001b[0m_callable_fn\u001b[0m\u001b[0;34m(\u001b[0m\u001b[0;34m*\u001b[0m\u001b[0marray_vals\u001b[0m\u001b[0;34m)\u001b[0m\u001b[0;34m\u001b[0m\u001b[0m\n\u001b[0m\u001b[1;32m   2637\u001b[0m         \u001b[0;32mreturn\u001b[0m \u001b[0mfetched\u001b[0m\u001b[0;34m[\u001b[0m\u001b[0;34m:\u001b[0m\u001b[0mlen\u001b[0m\u001b[0;34m(\u001b[0m\u001b[0mself\u001b[0m\u001b[0;34m.\u001b[0m\u001b[0moutputs\u001b[0m\u001b[0;34m)\u001b[0m\u001b[0;34m]\u001b[0m\u001b[0;34m\u001b[0m\u001b[0m\n\u001b[1;32m   2638\u001b[0m \u001b[0;34m\u001b[0m\u001b[0m\n",
      "\u001b[0;32m~/anaconda3/lib/python3.6/site-packages/tensorflow/python/client/session.py\u001b[0m in \u001b[0;36m__call__\u001b[0;34m(self, *args, **kwargs)\u001b[0m\n\u001b[1;32m   1380\u001b[0m           ret = tf_session.TF_SessionRunCallable(\n\u001b[1;32m   1381\u001b[0m               \u001b[0mself\u001b[0m\u001b[0;34m.\u001b[0m\u001b[0m_session\u001b[0m\u001b[0;34m.\u001b[0m\u001b[0m_session\u001b[0m\u001b[0;34m,\u001b[0m \u001b[0mself\u001b[0m\u001b[0;34m.\u001b[0m\u001b[0m_handle\u001b[0m\u001b[0;34m,\u001b[0m \u001b[0margs\u001b[0m\u001b[0;34m,\u001b[0m \u001b[0mstatus\u001b[0m\u001b[0;34m,\u001b[0m\u001b[0;34m\u001b[0m\u001b[0m\n\u001b[0;32m-> 1382\u001b[0;31m               run_metadata_ptr)\n\u001b[0m\u001b[1;32m   1383\u001b[0m         \u001b[0;32mif\u001b[0m \u001b[0mrun_metadata\u001b[0m\u001b[0;34m:\u001b[0m\u001b[0;34m\u001b[0m\u001b[0m\n\u001b[1;32m   1384\u001b[0m           \u001b[0mproto_data\u001b[0m \u001b[0;34m=\u001b[0m \u001b[0mtf_session\u001b[0m\u001b[0;34m.\u001b[0m\u001b[0mTF_GetBuffer\u001b[0m\u001b[0;34m(\u001b[0m\u001b[0mrun_metadata_ptr\u001b[0m\u001b[0;34m)\u001b[0m\u001b[0;34m\u001b[0m\u001b[0m\n",
      "\u001b[0;31mKeyboardInterrupt\u001b[0m: "
     ]
    }
   ],
   "source": [
    "print('Training model.')\n",
    "\n",
    "# train a 1D convnet with global maxpooling\n",
    "sequence_input = Input(shape=(MAX_SEQUENCE_LENGTH,), dtype='int32')\n",
    "print(sequence_input.shape)\n",
    "embedded_sequences = embedding_layer(sequence_input)\n",
    "print(embedded_sequences.shape)\n",
    "#每一篇文章也即每一个样本都是1000*300维，1000表示1000个单词，300表示每个单词的维度。\n",
    "#128个5*100的一维filter 输入：1000*300 输出：996（1000-5+1）*128\n",
    "x = Conv1D(128, 5, activation='relu')(embedded_sequences)\n",
    "print(x.shape)\n",
    "x = MaxPooling1D(5)(x) #996/5\n",
    "print(x.shape)\n",
    "x = Conv1D(128, 5, activation='relu')(x)\n",
    "print(x.shape)\n",
    "x = MaxPooling1D(5)(x)\n",
    "print(x.shape)\n",
    "x = Conv1D(128, 5, activation='relu')(x)\n",
    "print(x.shape)\n",
    "x = GlobalMaxPooling1D()(x)\n",
    "print(x.shape)\n",
    "x = Dense(128, activation='relu')(x)\n",
    "print(x.shape)\n",
    "preds = Dense(7, activation='softmax')(x)\n",
    "print(preds.shape)\n",
    "\n",
    "model = Model(sequence_input, preds)\n",
    "model.compile(loss='categorical_crossentropy',\n",
    "              optimizer='rmsprop',\n",
    "              metrics=['acc'])\n",
    "\n",
    "model.fit(x_train, y_train,\n",
    "          batch_size=8,\n",
    "          epochs=100,\n",
    "          validation_data=(x_val, y_val))\n"
   ]
  },
  {
   "cell_type": "code",
   "execution_count": null,
   "metadata": {},
   "outputs": [],
   "source": []
  }
 ],
 "metadata": {
  "kernelspec": {
   "display_name": "Python 3",
   "language": "python",
   "name": "python3"
  },
  "language_info": {
   "codemirror_mode": {
    "name": "ipython",
    "version": 3
   },
   "file_extension": ".py",
   "mimetype": "text/x-python",
   "name": "python",
   "nbconvert_exporter": "python",
   "pygments_lexer": "ipython3",
   "version": "3.6.5"
  }
 },
 "nbformat": 4,
 "nbformat_minor": 2
}
